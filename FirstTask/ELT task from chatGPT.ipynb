{
 "cells": [
  {
   "cell_type": "code",
   "execution_count": 2,
   "id": "5702c9be",
   "metadata": {},
   "outputs": [],
   "source": [
    "from pyspark.sql import SparkSession\n",
    "spark = SparkSession.builder \\\n",
    "    .appName(\"MyApp\") \\\n",
    "    .config(\"spark.driver.extraClassPath\", \"C:/Program Files (x86)/PostgreSQL/pgJDBC/postgresql-42.5.1.jar\") \\\n",
    "    .getOrCreate()"
   ]
  },
  {
   "cell_type": "code",
   "execution_count": 3,
   "id": "422552e3",
   "metadata": {},
   "outputs": [],
   "source": [
    "jdbc_url = \"jdbc:postgresql://localhost:5432/moviesdb\"\n",
    "connection_properties = {\n",
    "    \"user\": \"postgres\",\n",
    "    \"password\": \"123456\",\n",
    "    \"driver\": \"org.postgresql.Driver\"\n",
    "}"
   ]
  },
  {
   "cell_type": "code",
   "execution_count": 4,
   "id": "97a99d2a",
   "metadata": {},
   "outputs": [],
   "source": [
    "dataActors = spark.read.format(\"csv\")\\\n",
    ".option(\"header\",\"true\")\\\n",
    ".load(\"data/actors.csv\")"
   ]
  },
  {
   "cell_type": "code",
   "execution_count": 6,
   "id": "1f472a8e",
   "metadata": {},
   "outputs": [],
   "source": [
    "dataActors\\\n",
    ".write\\\n",
    ".jdbc(url=jdbc_url,\\\n",
    "      table='public.\"actors\"',\\\n",
    "      mode=\"overwrite\",\\\n",
    "      properties=connection_properties)"
   ]
  },
  {
   "cell_type": "code",
   "execution_count": 7,
   "id": "a65edb09",
   "metadata": {},
   "outputs": [],
   "source": [
    "dataMovies = spark.read.format(\"csv\")\\\n",
    ".option(\"header\",\"true\")\\\n",
    ".load(\"data/movies.csv\")"
   ]
  },
  {
   "cell_type": "code",
   "execution_count": 8,
   "id": "d1ef702b",
   "metadata": {},
   "outputs": [],
   "source": [
    "dataMovies\\\n",
    ".write\\\n",
    ".jdbc(url=jdbc_url,\\\n",
    "      table='public.\"movies\"',\\\n",
    "      mode=\"overwrite\",\\\n",
    "      properties=connection_properties)"
   ]
  }
 ],
 "metadata": {
  "kernelspec": {
   "display_name": "Python 3 (ipykernel)",
   "language": "python",
   "name": "python3"
  },
  "language_info": {
   "codemirror_mode": {
    "name": "ipython",
    "version": 3
   },
   "file_extension": ".py",
   "mimetype": "text/x-python",
   "name": "python",
   "nbconvert_exporter": "python",
   "pygments_lexer": "ipython3",
   "version": "3.11.4"
  }
 },
 "nbformat": 4,
 "nbformat_minor": 5
}
