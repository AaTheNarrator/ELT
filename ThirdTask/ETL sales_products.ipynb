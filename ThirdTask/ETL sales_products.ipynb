{
 "cells": [
  {
   "cell_type": "code",
   "execution_count": 1,
   "id": "dcb94cc9",
   "metadata": {},
   "outputs": [],
   "source": [
    "from pyspark.sql import SparkSession\n",
    "import pyspark.sql.functions as F"
   ]
  },
  {
   "cell_type": "code",
   "execution_count": 2,
   "id": "1ac71a66",
   "metadata": {},
   "outputs": [],
   "source": [
    "spark = SparkSession.builder \\\n",
    "    .appName(\"MyApp\") \\\n",
    "    .config(\"spark.driver.extraClassPath\", \"C:/Program Files (x86)/PostgreSQL/pgJDBC/postgresql-42.5.1.jar\") \\\n",
    "    .getOrCreate()"
   ]
  },
  {
   "cell_type": "code",
   "execution_count": 7,
   "id": "cd2e9f10",
   "metadata": {},
   "outputs": [],
   "source": [
    "dfSales = spark.read.format(\"csv\").option(\"header\",\"true\").load(\"data/sales.csv\")\n",
    "dfProduct = spark.read.format(\"csv\").option(\"header\",\"true\").load(\"data/products.csv\")"
   ]
  },
  {
   "cell_type": "code",
   "execution_count": 8,
   "id": "555d34ed",
   "metadata": {},
   "outputs": [],
   "source": [
    "dfJoined = dfSales.join(dfProduct,\"product_id\",\"inner\")"
   ]
  },
  {
   "cell_type": "code",
   "execution_count": 12,
   "id": "1808832f",
   "metadata": {},
   "outputs": [],
   "source": [
    "dforders = dfJoined.groupBy(\"order_id\").agg(F.sum(\"sale_amount\").alias(\"sum\")).orderBy(\"order_id\")"
   ]
  },
  {
   "cell_type": "code",
   "execution_count": 17,
   "id": "0d1cbe0a",
   "metadata": {},
   "outputs": [
    {
     "name": "stdout",
     "output_type": "stream",
     "text": [
      "+--------+\n",
      "|AvgCheck|\n",
      "+--------+\n",
      "|  653.13|\n",
      "+--------+\n",
      "\n"
     ]
    }
   ],
   "source": [
    "dforders.agg(F.round((F.sum(\"sum\") / dforders.count()),2).alias(\"AvgCheck\")).show()"
   ]
  },
  {
   "cell_type": "code",
   "execution_count": 27,
   "id": "07fc08b9",
   "metadata": {},
   "outputs": [
    {
     "name": "stdout",
     "output_type": "stream",
     "text": [
      "+----------+----+-----+-----+\n",
      "|product_id|Year|Month|  Avg|\n",
      "+----------+----+-----+-----+\n",
      "|       101|2023|    1|500.0|\n",
      "|       102|2023|    1|300.0|\n",
      "|       101|2023|    2|200.0|\n",
      "|       103|2023|    2|400.0|\n",
      "|       101|2023|    3|450.0|\n",
      "|       102|2023|    3|425.0|\n",
      "|       102|2023|    4|550.0|\n",
      "|       101|2023|    4|250.0|\n",
      "|       103|2023|    4|600.0|\n",
      "|       106|2023|    4|500.0|\n",
      "|       102|2023|    5|700.0|\n",
      "|       101|2023|    5|600.0|\n",
      "|       101|2023|    6|300.0|\n",
      "|       103|2023|    6|800.0|\n",
      "|       102|2023|    7|250.0|\n",
      "|       103|2023|    7|150.0|\n",
      "|       101|2023|    8|400.0|\n",
      "|       104|2023|    8|200.0|\n",
      "|       104|2023|    9|300.0|\n",
      "|       105|2023|    9|150.0|\n",
      "+----------+----+-----+-----+\n",
      "only showing top 20 rows\n",
      "\n"
     ]
    }
   ],
   "source": [
    "dfJoined.\\\n",
    "    groupBy(\"product_id\",\\\n",
    "            F.year(\"sale_date\").alias(\"Year\"),\\\n",
    "            F.month(\"sale_date\").alias(\"Month\")).\\\n",
    "    agg(F.avg(\"sale_amount\").alias(\"Avg\")).\\\n",
    "orderBy(F.col(\"month\").asc()).show()"
   ]
  }
 ],
 "metadata": {
  "kernelspec": {
   "display_name": "Python 3 (ipykernel)",
   "language": "python",
   "name": "python3"
  },
  "language_info": {
   "codemirror_mode": {
    "name": "ipython",
    "version": 3
   },
   "file_extension": ".py",
   "mimetype": "text/x-python",
   "name": "python",
   "nbconvert_exporter": "python",
   "pygments_lexer": "ipython3",
   "version": "3.11.4"
  }
 },
 "nbformat": 4,
 "nbformat_minor": 5
}
