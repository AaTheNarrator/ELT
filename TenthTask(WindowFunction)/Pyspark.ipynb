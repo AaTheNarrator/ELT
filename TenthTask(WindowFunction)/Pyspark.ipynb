{
 "cells": [
  {
   "cell_type": "code",
   "execution_count": 35,
   "id": "50737eeb",
   "metadata": {},
   "outputs": [],
   "source": [
    "from pyspark.sql import SparkSession\n",
    "from pyspark.sql.window import Window\n",
    "import pyspark.sql.functions as F"
   ]
  },
  {
   "cell_type": "code",
   "execution_count": 4,
   "id": "6e705e31",
   "metadata": {},
   "outputs": [],
   "source": [
    "spark = SparkSession.builder.appName(\"work_with_file\").getOrCreate()"
   ]
  },
  {
   "cell_type": "code",
   "execution_count": 17,
   "id": "f631b07e",
   "metadata": {},
   "outputs": [],
   "source": [
    "dffile = spark.read.format(\"csv\").option(\"header\",\"true\").load(\"sales_data.csv\")"
   ]
  },
  {
   "cell_type": "code",
   "execution_count": 18,
   "id": "4b465e2e",
   "metadata": {},
   "outputs": [],
   "source": [
    "dfdd = dffile.dropDuplicates()"
   ]
  },
  {
   "cell_type": "code",
   "execution_count": 19,
   "id": "40615276",
   "metadata": {},
   "outputs": [
    {
     "name": "stderr",
     "output_type": "stream",
     "text": [
      "\r",
      "[Stage 14:=========>                                                (1 + 5) / 6]\r"
     ]
    },
    {
     "name": "stdout",
     "output_type": "stream",
     "text": [
      "+---------+---------------+-----------+\n",
      "|ProductID|TransactionDate|SalesAmount|\n",
      "+---------+---------------+-----------+\n",
      "|     2945|      2020-3-21|      461.9|\n",
      "|     4281|      2010-4-13|     279.84|\n",
      "|     2025|      2011-9-26|     105.09|\n",
      "+---------+---------------+-----------+\n",
      "only showing top 3 rows\n",
      "\n"
     ]
    },
    {
     "name": "stderr",
     "output_type": "stream",
     "text": [
      "\r",
      "                                                                                \r"
     ]
    }
   ],
   "source": [
    "dfdd.show(3)"
   ]
  },
  {
   "cell_type": "code",
   "execution_count": 22,
   "id": "7ed55f86",
   "metadata": {},
   "outputs": [],
   "source": [
    "df_valid_data = dfdd.na.fill(value=0,subset=[\"SalesAmount\"])\\\n",
    "    .na.fill(value=\"\",subset=[\"TransactionDate\"])\\\n",
    "    .na.fill(value=0,subset=[\"ProductID\"])"
   ]
  },
  {
   "cell_type": "code",
   "execution_count": 28,
   "id": "c59a9657",
   "metadata": {},
   "outputs": [],
   "source": [
    "df_agg_date = df_valid_data.groupBy(\"ProductID\").agg(\n",
    "    F.round(F.sum(\"SalesAmount\"),2).alias(\"Sum\"),\n",
    "    F.round(F.avg(\"SalesAmount\"),2).alias(\"Avg\"),\n",
    "    F.count(\"SalesAmount\").alias(\"Count\")\n",
    ")"
   ]
  },
  {
   "cell_type": "code",
   "execution_count": 29,
   "id": "573a093b",
   "metadata": {},
   "outputs": [
    {
     "name": "stderr",
     "output_type": "stream",
     "text": [
      "[Stage 37:==================================================>  (190 + 10) / 200]\r"
     ]
    },
    {
     "name": "stdout",
     "output_type": "stream",
     "text": [
      "+---------+-----+\n",
      "|ProductID|Count|\n",
      "+---------+-----+\n",
      "|     4397|  250|\n",
      "|     4436|  250|\n",
      "|     3687|  249|\n",
      "|      287|  248|\n",
      "|     1398|  245|\n",
      "|     4109|  244|\n",
      "|     3799|  244|\n",
      "|     1385|  243|\n",
      "|       68|  243|\n",
      "|     4854|  243|\n",
      "+---------+-----+\n",
      "only showing top 10 rows\n",
      "\n"
     ]
    },
    {
     "name": "stderr",
     "output_type": "stream",
     "text": [
      "\r",
      "[Stage 38:======================================>              (144 + 13) / 200]\r",
      "\r",
      "                                                                                \r"
     ]
    }
   ],
   "source": [
    "df_agg_date.orderBy(F.col(\"Count\").desc()).select(\"ProductID\",\"Count\").show(10)"
   ]
  },
  {
   "cell_type": "code",
   "execution_count": 30,
   "id": "c2e3755e",
   "metadata": {},
   "outputs": [
    {
     "name": "stderr",
     "output_type": "stream",
     "text": [
      "[Stage 40:===============================================>     (181 + 12) / 200]\r"
     ]
    },
    {
     "name": "stdout",
     "output_type": "stream",
     "text": [
      "+---------+------+\n",
      "|ProductID|   Avg|\n",
      "+---------+------+\n",
      "|      268|300.82|\n",
      "|     4373|290.31|\n",
      "|     4461|289.66|\n",
      "|     3696|289.04|\n",
      "|     1831|287.13|\n",
      "|     4534|286.56|\n",
      "|     3859|285.27|\n",
      "|     4203|285.05|\n",
      "|      921|284.72|\n",
      "|     2530|284.46|\n",
      "+---------+------+\n",
      "only showing top 10 rows\n",
      "\n"
     ]
    },
    {
     "name": "stderr",
     "output_type": "stream",
     "text": [
      "\r",
      "                                                                                \r"
     ]
    }
   ],
   "source": [
    "df_agg_date.orderBy(F.col(\"Avg\").desc()).select(\"ProductID\",\"Avg\").show(10)"
   ]
  },
  {
   "cell_type": "code",
   "execution_count": 31,
   "id": "9a9bc66e",
   "metadata": {},
   "outputs": [],
   "source": [
    "df_with_year_month = df_valid_data\\\n",
    "    .withColumn(\"Year\",F.year(\"TransactionDate\"))\\\n",
    "    .withColumn(\"Month\",F.month(\"TransactionDate\"))"
   ]
  },
  {
   "cell_type": "code",
   "execution_count": 34,
   "id": "a9c7a374",
   "metadata": {
    "scrolled": true
   },
   "outputs": [
    {
     "name": "stderr",
     "output_type": "stream",
     "text": [
      "[Stage 61:==============================================>      (174 + 12) / 200]\r"
     ]
    },
    {
     "name": "stdout",
     "output_type": "stream",
     "text": [
      "+----+-----+----------+\n",
      "|Year|Month|       Sum|\n",
      "+----+-----+----------+\n",
      "|2022|   10|1512293.09|\n",
      "|2012|   10|1531084.54|\n",
      "|2010|   12| 1523618.7|\n",
      "|2010|    7|1524210.42|\n",
      "|2015|    2|1527827.76|\n",
      "|2019|   10|1526347.56|\n",
      "|2017|    3|1511505.63|\n",
      "|2017|    8|1484452.14|\n",
      "|2014|    4|1491672.65|\n",
      "|2020|    6|1525667.85|\n",
      "|2019|    5|1492053.63|\n",
      "|2017|   10|1535215.63|\n",
      "|2018|   10| 1520160.5|\n",
      "|2021|    8|1495608.84|\n",
      "|2015|   12|1529252.69|\n",
      "|2016|    7|1556638.12|\n",
      "|2016|   11|1510172.71|\n",
      "|2021|    6|1531925.38|\n",
      "|2023|    9|1532568.25|\n",
      "|2023|    8|1536898.69|\n",
      "+----+-----+----------+\n",
      "only showing top 20 rows\n",
      "\n"
     ]
    },
    {
     "name": "stderr",
     "output_type": "stream",
     "text": [
      "\r",
      "                                                                                \r"
     ]
    }
   ],
   "source": [
    "df_with_year_month.groupBy(\"Year\",\"Month\").agg(\n",
    "    F.round(F.sum(\"SalesAmount\"),2).alias(\"Sum\")\n",
    ").show()"
   ]
  },
  {
   "cell_type": "code",
   "execution_count": 50,
   "id": "d81a39c0",
   "metadata": {},
   "outputs": [],
   "source": [
    "win = Window.partitionBy().orderBy(F.col(\"TransactionDate\").asc()).rowsBetween(Window.currentRow - 5,Window.currentRow)\n",
    "\n",
    "df_valid_data = df_valid_data.filter(F.col(\"TransactionDate\") > F.add_months(F.current_date(), -6))\n",
    "df_valid_data = df_valid_data.withColumn(\"roll\", F.round(F.avg(\"SalesAmount\").over(win),2))"
   ]
  },
  {
   "cell_type": "code",
   "execution_count": 52,
   "id": "13ff27cf",
   "metadata": {
    "scrolled": true
   },
   "outputs": [
    {
     "name": "stderr",
     "output_type": "stream",
     "text": [
      "23/10/09 18:41:14 WARN WindowExec: No Partition Defined for Window operation! Moving all data to a single partition, this can cause serious performance degradation.\n"
     ]
    },
    {
     "name": "stdout",
     "output_type": "stream",
     "text": [
      "+---------+---------------+-----------+------+\n",
      "|ProductID|TransactionDate|SalesAmount|  roll|\n",
      "+---------+---------------+-----------+------+\n",
      "|     2714|      2023-10-1|      56.33| 56.33|\n",
      "|     1069|      2023-10-1|     362.38|209.36|\n",
      "|     3529|      2023-10-1|      45.77|154.83|\n",
      "|      144|      2023-10-1|     323.33|196.95|\n",
      "|     1151|      2023-10-1|     113.62|180.29|\n",
      "|     4108|      2023-10-1|      249.7|191.86|\n",
      "|      246|      2023-10-1|     499.53|265.72|\n",
      "|     1708|      2023-10-1|     408.08|273.34|\n",
      "|     4841|      2023-10-1|     174.55| 294.8|\n",
      "|     2206|      2023-10-1|      28.39|245.64|\n",
      "|     4771|      2023-10-1|      48.19|234.74|\n",
      "|     2751|      2023-10-1|     216.67|229.24|\n",
      "|     3273|      2023-10-1|      87.98|160.64|\n",
      "|     3251|      2023-10-1|     172.31|121.35|\n",
      "|     2553|      2023-10-1|     152.62|117.69|\n",
      "|     3486|      2023-10-1|     109.14|131.15|\n",
      "|     2198|      2023-10-1|      482.0|203.45|\n",
      "|     1388|      2023-10-1|     271.22|212.55|\n",
      "|     2934|      2023-10-1|     372.06|259.89|\n",
      "|     4483|      2023-10-1|      77.29|244.05|\n",
      "|      100|      2023-10-1|      49.38|226.85|\n",
      "|     4056|      2023-10-1|      71.32|220.55|\n",
      "|     4600|      2023-10-1|     189.08|171.73|\n",
      "|     4626|      2023-10-1|      67.32|137.74|\n",
      "|      804|      2023-10-1|     494.44|158.14|\n",
      "|     4993|      2023-10-1|     417.37|214.82|\n",
      "|     3965|      2023-10-1|     117.06| 226.1|\n",
      "|      841|      2023-10-1|     416.53|283.63|\n",
      "|     2624|      2023-10-1|     198.76|285.25|\n",
      "|      807|      2023-10-1|     416.94|343.52|\n",
      "|      333|      2023-10-1|     361.93|321.43|\n",
      "|     2275|      2023-10-1|      11.39|253.77|\n",
      "|      231|      2023-10-1|      137.4|257.16|\n",
      "|     3285|      2023-10-1|     389.58|252.67|\n",
      "|     2934|      2023-10-1|     201.22|253.08|\n",
      "|     2747|      2023-10-1|     330.66| 238.7|\n",
      "|     3391|      2023-10-1|     231.14| 216.9|\n",
      "|     1991|      2023-10-1|      462.3|292.05|\n",
      "|     1173|      2023-10-1|       28.2|273.85|\n",
      "|     3446|      2023-10-1|      309.2|260.45|\n",
      "|     2986|      2023-10-1|     197.64|259.86|\n",
      "|      169|      2023-10-1|     181.68|235.03|\n",
      "|     2220|      2023-10-1|     200.14|229.86|\n",
      "|     4127|      2023-10-1|      94.41|168.55|\n",
      "|     1786|      2023-10-1|      369.5|225.43|\n",
      "|     1430|      2023-10-1|      94.62|189.66|\n",
      "|      713|      2023-10-1|      21.57|160.32|\n",
      "|     3341|      2023-10-1|     421.06|200.22|\n",
      "|     3564|      2023-10-1|     207.37|201.42|\n",
      "|     2325|      2023-10-1|     347.43|243.59|\n",
      "+---------+---------------+-----------+------+\n",
      "only showing top 50 rows\n",
      "\n"
     ]
    }
   ],
   "source": [
    "df_valid_data.show(50)"
   ]
  },
  {
   "cell_type": "code",
   "execution_count": 46,
   "id": "1fff7af5",
   "metadata": {},
   "outputs": [
    {
     "name": "stdout",
     "output_type": "stream",
     "text": [
      "/home/jovyan\r\n"
     ]
    }
   ],
   "source": [
    "!pwd"
   ]
  }
 ],
 "metadata": {
  "kernelspec": {
   "display_name": "Python 3 (ipykernel)",
   "language": "python",
   "name": "python3"
  },
  "language_info": {
   "codemirror_mode": {
    "name": "ipython",
    "version": 3
   },
   "file_extension": ".py",
   "mimetype": "text/x-python",
   "name": "python",
   "nbconvert_exporter": "python",
   "pygments_lexer": "ipython3",
   "version": "3.9.7"
  }
 },
 "nbformat": 4,
 "nbformat_minor": 5
}
