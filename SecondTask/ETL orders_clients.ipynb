{
 "cells": [
  {
   "cell_type": "code",
   "execution_count": 1,
   "id": "c7c6a4a5",
   "metadata": {},
   "outputs": [],
   "source": [
    "from pyspark.sql import SparkSession\n",
    "import pyspark.sql.functions as F"
   ]
  },
  {
   "cell_type": "code",
   "execution_count": 2,
   "id": "921ff5d2",
   "metadata": {},
   "outputs": [],
   "source": [
    "spark = SparkSession.builder \\\n",
    "    .appName(\"MyApp\") \\\n",
    "    .config(\"spark.driver.extraClassPath\", \"C:/Program Files (x86)/PostgreSQL/pgJDBC/postgresql-42.5.1.jar\") \\\n",
    "    .getOrCreate()"
   ]
  },
  {
   "cell_type": "code",
   "execution_count": 17,
   "id": "c26ecd0c",
   "metadata": {},
   "outputs": [],
   "source": [
    "jdbc_url = \"jdbc:postgresql://localhost:5432/clientordersetl\"\n",
    "connection_properties = {\n",
    "    \"user\": \"postgres\",\n",
    "    \"password\": \"123456\",\n",
    "    \"driver\": \"org.postgresql.Driver\"\n",
    "}"
   ]
  },
  {
   "cell_type": "code",
   "execution_count": 6,
   "id": "a3867270",
   "metadata": {},
   "outputs": [],
   "source": [
    "dfclients = spark.read.format(\"csv\").option(\"header\",\"true\").load(\"data/client.csv\")\n",
    "dforders = spark.read.format(\"csv\").option(\"header\",\"true\").load(\"data/orders.csv\")"
   ]
  },
  {
   "cell_type": "code",
   "execution_count": 10,
   "id": "22e0eeed",
   "metadata": {},
   "outputs": [],
   "source": [
    "dfjoined = dforders.join(dfclients,\"client_id\",\"inner\")"
   ]
  },
  {
   "cell_type": "code",
   "execution_count": 19,
   "id": "49daf5e5",
   "metadata": {},
   "outputs": [],
   "source": [
    "dfresult = dfjoined.groupBy(\"client_id\").agg(\n",
    "    F.max(\"client_name\").alias(\"ClientName\"),\n",
    "    F.round(F.avg(\"order_amount\"),2).alias(\"AvgAmount\"),\n",
    "    F.sum(\"order_amount\").alias(\"SumAmount\"),\n",
    "    F.count(\"client_id\").alias(\"CountOrders\")\n",
    ")"
   ]
  },
  {
   "cell_type": "code",
   "execution_count": 20,
   "id": "164803c7",
   "metadata": {},
   "outputs": [],
   "source": [
    "dfresult.write.jdbc(url = jdbc_url,\\\n",
    "                    table='public.\"aggregated_results\"',\\\n",
    "                    mode=\"overwrite\",\\\n",
    "                    properties= connection_properties)"
   ]
  },
  {
   "cell_type": "code",
   "execution_count": null,
   "id": "49797552",
   "metadata": {},
   "outputs": [],
   "source": []
  }
 ],
 "metadata": {
  "kernelspec": {
   "display_name": "Python 3 (ipykernel)",
   "language": "python",
   "name": "python3"
  },
  "language_info": {
   "codemirror_mode": {
    "name": "ipython",
    "version": 3
   },
   "file_extension": ".py",
   "mimetype": "text/x-python",
   "name": "python",
   "nbconvert_exporter": "python",
   "pygments_lexer": "ipython3",
   "version": "3.11.4"
  }
 },
 "nbformat": 4,
 "nbformat_minor": 5
}
