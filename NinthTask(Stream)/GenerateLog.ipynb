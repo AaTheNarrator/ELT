{
 "cells": [
  {
   "cell_type": "code",
   "execution_count": null,
   "id": "9ccf9159",
   "metadata": {},
   "outputs": [],
   "source": [
    "import random\n",
    "import time\n",
    "import os\n",
    "\n",
    "# Список возможных IP-адресов\n",
    "ip_addresses = [\"192.168.1.1\", \"10.0.0.1\", \"172.16.0.1\", \"127.0.0.1\"]\n",
    "\n",
    "# Список возможных URL-запросов\n",
    "urls = [\"/page1\", \"/page2\", \"/page3\", \"/api/data\"]\n",
    "\n",
    "# Список возможных статусов ответов\n",
    "statuses = [200, 404, 500]\n",
    "\n",
    "# Генератор логов\n",
    "def generate_log():\n",
    "    timestamp = int(time.time())\n",
    "    ip = random.choice(ip_addresses)\n",
    "    url = random.choice(urls)\n",
    "    status = random.choice(statuses)\n",
    "    response_time = random.uniform(0.1, 2.0)  # Случайное время ответа от 0.1 до 2.0 секунд\n",
    "    log_entry = f\"{timestamp} - {ip} - {url} - {status} - {response_time:.2f}\"\n",
    "    return log_entry\n",
    "\n",
    "# Создание директории для хранения логов (если ее нет)\n",
    "log_directory = \"logs\"\n",
    "os.makedirs(log_directory, exist_ok=True)\n",
    "\n",
    "try:\n",
    "    while True:\n",
    "        log_entry = generate_log()\n",
    "        timestamp = time.strftime(\"%Y%m%d%H%M%S\")\n",
    "        log_filename = os.path.join(log_directory, f\"log_{timestamp}.log\")\n",
    "        \n",
    "        with open(log_filename, \"a\") as log_file:\n",
    "            log_file.write(log_entry + \"\\n\")\n",
    "        \n",
    "        time.sleep(1)  # Пауза в 1 секунду между записями\n",
    "except KeyboardInterrupt:\n",
    "    pass\n"
   ]
  }
 ],
 "metadata": {
  "kernelspec": {
   "display_name": "Python 3 (ipykernel)",
   "language": "python",
   "name": "python3"
  },
  "language_info": {
   "codemirror_mode": {
    "name": "ipython",
    "version": 3
   },
   "file_extension": ".py",
   "mimetype": "text/x-python",
   "name": "python",
   "nbconvert_exporter": "python",
   "pygments_lexer": "ipython3",
   "version": "3.9.7"
  }
 },
 "nbformat": 4,
 "nbformat_minor": 5
}
