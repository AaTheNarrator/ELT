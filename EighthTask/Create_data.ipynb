{
 "cells": [
  {
   "cell_type": "code",
   "execution_count": 4,
   "id": "37d6ecd9",
   "metadata": {},
   "outputs": [
    {
     "name": "stdout",
     "output_type": "stream",
     "text": [
      "CSV файл 'sales_data.csv' успешно создан.\n"
     ]
    }
   ],
   "source": [
    "import pandas as pd\n",
    "import random\n",
    "from faker import Faker\n",
    "import datetime\n",
    "\n",
    "# Создаем случайные данные с использованием библиотек pandas и faker\n",
    "fake = Faker()\n",
    "\n",
    "products = []\n",
    "for i in range(25):\n",
    "    products.append(fake.word())\n",
    "\n",
    "stores = []\n",
    "for i in range(13):\n",
    "    stores.append(fake.company())\n",
    "    \n",
    "data = []\n",
    "for _ in range(150):\n",
    "    date = fake.date_between(start_date='-1y', end_date='today')\n",
    "    store = random.choice(stores)\n",
    "    product = random.choice(products)\n",
    "    quantity = random.randint(1, 50)\n",
    "    price = round(random.uniform(10, 100), 2)\n",
    "    total = round(quantity * price, 2)\n",
    "    data.append([date, store, product, quantity, total])\n",
    "\n",
    "# Создаем DataFrame\n",
    "df = pd.DataFrame(data, columns=['Дата', 'Магазин', 'Товар', 'Количество', 'Сумма'])\n",
    "\n",
    "# Сохраняем DataFrame в CSV файл\n",
    "df.to_csv('sales_data.csv', index=False)\n",
    "\n",
    "print(\"CSV файл 'sales_data.csv' успешно создан.\")"
   ]
  }
 ],
 "metadata": {
  "kernelspec": {
   "display_name": "Python 3 (ipykernel)",
   "language": "python",
   "name": "python3"
  },
  "language_info": {
   "codemirror_mode": {
    "name": "ipython",
    "version": 3
   },
   "file_extension": ".py",
   "mimetype": "text/x-python",
   "name": "python",
   "nbconvert_exporter": "python",
   "pygments_lexer": "ipython3",
   "version": "3.9.7"
  }
 },
 "nbformat": 4,
 "nbformat_minor": 5
}
